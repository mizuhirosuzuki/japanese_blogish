{
 "cells": [
  {
   "cell_type": "markdown",
   "id": "8f811a88",
   "metadata": {},
   "source": [
    "# JuMP でたくさん user-defined functions を使う時のはなし"
   ]
  },
  {
   "cell_type": "markdown",
   "id": "a10099b6",
   "metadata": {},
   "source": [
    "JuliaのJuMPで `register` をつかって自分の定義した関数をモデルの中で使い時、関数がたくさんあったり、N個の関数を使いたかったりしたらどうするかっていうのをまとめました。\n",
    "ここで考える最小化問題はこれ↓"
   ]
  },
  {
   "cell_type": "markdown",
   "id": "7a613554",
   "metadata": {},
   "source": [
    "\\begin{align*}\n",
    "    \\min &\\quad x_1^2 + x_2^2 \\\\\n",
    "    \\text{subject to} \n",
    "    &\\quad x_1 + x_2 \\le 2 \\\\\n",
    "    &\\quad - x_1 + x_2 \\le 1 \\\\\n",
    "    &\\quad - x_1 - x_2 \\le -1 \\\\\n",
    "    &\\quad x_1 - x_2 \\le 1\n",
    "\\end{align*}"
   ]
  },
  {
   "cell_type": "markdown",
   "id": "c7008e38",
   "metadata": {},
   "source": [
    "答えは $(x_1, x_2) = (0.5, 0.5)$。\n",
    "（これくらいなら `register` 使わないでもできるんだけど、demonstrationということで。）"
   ]
  },
  {
   "cell_type": "code",
   "execution_count": 22,
   "id": "56890b1a",
   "metadata": {},
   "outputs": [],
   "source": [
    "using JuMP\n",
    "using Ipopt\n",
    "using Printf"
   ]
  },
  {
   "cell_type": "markdown",
   "id": "e5142571",
   "metadata": {},
   "source": [
    "## Pattern 1"
   ]
  },
  {
   "cell_type": "markdown",
   "id": "63ee3a43",
   "metadata": {},
   "source": [
    "一番単純（？）な方法。\n",
    "たくさん関数があると大変だし、コードを書く時点で関数の数がわからなかったりするときに使えない。"
   ]
  },
  {
   "cell_type": "code",
   "execution_count": 56,
   "id": "77c9fe8c",
   "metadata": {},
   "outputs": [
    {
     "data": {
      "text/latex": [
       "$$ \\begin{aligned}\n",
       "\\min\\quad & x_{1} ^ {2.0} + x_{2} ^ {2.0}\\\\\n",
       "\\text{Subject to} \\quad & fn1(x_{1}, x_{2}) - 0.0 \\leq 0\\\\\n",
       " & fn2(x_{1}, x_{2}) - 0.0 \\leq 0\\\\\n",
       " & fn3(x_{1}, x_{2}) - 0.0 \\leq 0\\\\\n",
       " & fn4(x_{1}, x_{2}) - 0.0 \\leq 0\\\\\n",
       "\\end{aligned} $$"
      ]
     },
     "metadata": {},
     "output_type": "display_data"
    },
    {
     "name": "stdout",
     "output_type": "stream",
     "text": [
      "Objective function value: 0.5000000 \n",
      "Minimizing values: 0.5000000, 0.5000000\n",
      "\n",
      " Yay!! 🙏"
     ]
    }
   ],
   "source": [
    "model = Model(Ipopt.Optimizer);\n",
    "set_silent(model)\n",
    "\n",
    "@variable(model, x[i = 1:2]);\n",
    "\n",
    "register(model, :fn1, 2, (x...) -> x[1] + x[2] - 2.0; autodiff = true);\n",
    "register(model, :fn2, 2, (x...) -> - x[1] + x[2] - 1.0; autodiff = true);\n",
    "register(model, :fn3, 2, (x...) -> - x[1] - x[2] + 1.0 ; autodiff = true);\n",
    "register(model, :fn4, 2, (x...) -> x[1] - x[2] - 1.0; autodiff = true);\n",
    "\n",
    "@NLconstraint(model, fn1(x...) <= 0.0);\n",
    "@NLconstraint(model, fn2(x...) <= 0.0);\n",
    "@NLconstraint(model, fn3(x...) <= 0.0);\n",
    "@NLconstraint(model, fn4(x...) <= 0.0);\n",
    "\n",
    "@NLobjective(model, Min, x[1]^2 + x[2]^2);\n",
    "\n",
    "print(model)\n",
    "optimize!(model)\n",
    "\n",
    "objective_min = objective_value(model);\n",
    "minx = value.(x)\n",
    "\n",
    "@printf(\"Objective function value: %.7f \\n\", objective_min)\n",
    "@printf(\"Minimizing values: %.7f, %.7f\", minx[1], minx[2])\n",
    "\n",
    "if (minx[1] ≈ 0.5) & (minx[2] ≈ 0.5)\n",
    "    @printf(\"\\n\\n Yay!! 🙏\")\n",
    "end"
   ]
  },
  {
   "cell_type": "markdown",
   "id": "a5cba204",
   "metadata": {},
   "source": [
    "## Pattern 2"
   ]
  },
  {
   "cell_type": "markdown",
   "id": "08251b4b",
   "metadata": {},
   "source": [
    "ちょっと違う方法。\n",
    "関数のリストを作って、`register` ではそのリストから関数をとってくる。\n",
    "でも、結局 `register`は一つ一つの関数それぞれに使ってる。"
   ]
  },
  {
   "cell_type": "code",
   "execution_count": 55,
   "id": "7c4c5ce0",
   "metadata": {},
   "outputs": [
    {
     "data": {
      "text/latex": [
       "$$ \\begin{aligned}\n",
       "\\min\\quad & x_{1} ^ {2.0} + x_{2} ^ {2.0}\\\\\n",
       "\\text{Subject to} \\quad & fn1(x_{1}, x_{2}) - 0.0 \\leq 0\\\\\n",
       " & fn2(x_{1}, x_{2}) - 0.0 \\leq 0\\\\\n",
       " & fn3(x_{1}, x_{2}) - 0.0 \\leq 0\\\\\n",
       " & fn4(x_{1}, x_{2}) - 0.0 \\leq 0\\\\\n",
       "\\end{aligned} $$"
      ]
     },
     "metadata": {},
     "output_type": "display_data"
    },
    {
     "name": "stdout",
     "output_type": "stream",
     "text": [
      "Objective function value: 0.5000000 \n",
      "Minimizing values: 0.5000000, 0.5000000\n",
      "\n",
      " Yay!! 🙏"
     ]
    }
   ],
   "source": [
    "model = Model(Ipopt.Optimizer);\n",
    "set_silent(model)\n",
    "\n",
    "@variable(model, x[i = 1:2]);\n",
    "\n",
    "func_list = [\n",
    "    (x...) -> x[1] + x[2] - 2.0,\n",
    "    (x...) -> - x[1] + x[2] - 1.0,\n",
    "    (x...) -> - x[1] -  x[2] + 1.0,\n",
    "    (x...) -> x[1] - x[2] - 1.0\n",
    "]\n",
    "\n",
    "register(model, :fn1, 2, func_list[1]; autodiff = true);\n",
    "register(model, :fn2, 2, func_list[2]; autodiff = true);\n",
    "register(model, :fn3, 2, func_list[3]; autodiff = true);\n",
    "register(model, :fn4, 2, func_list[4]; autodiff = true);\n",
    "\n",
    "@NLconstraint(model, fn1(x...) <= 0.0);\n",
    "@NLconstraint(model, fn2(x...) <= 0.0);\n",
    "@NLconstraint(model, fn3(x...) <= 0.0);\n",
    "@NLconstraint(model, fn4(x...) <= 0.0);\n",
    "\n",
    "@NLobjective(model, Min, x[1]^2 + x[2]^2);\n",
    "\n",
    "print(model)\n",
    "optimize!(model)\n",
    "\n",
    "objective_min = objective_value(model);\n",
    "minx = value.(x)\n",
    "\n",
    "@printf(\"Objective function value: %.7f \\n\", objective_min)\n",
    "@printf(\"Minimizing values: %.7f, %.7f\", minx[1], minx[2])\n",
    "\n",
    "if (minx[1] ≈ 0.5) & (minx[2] ≈ 0.5)\n",
    "    @printf(\"\\n\\n Yay!! 🙏\")\n",
    "end"
   ]
  },
  {
   "cell_type": "markdown",
   "id": "17e3b4d6",
   "metadata": {},
   "source": [
    "## Pattern 3"
   ]
  },
  {
   "cell_type": "markdown",
   "id": "72c9e76c",
   "metadata": {},
   "source": [
    "`register` を一つ一つの関数に使うの面倒くさい。\n",
    "というわけで、for loopを使います。\n",
    "でも、`register` の2つ目の引数はSymbol、これどうすんの…？\n",
    "\n",
    "というのに対処したのがこちら。"
   ]
  },
  {
   "cell_type": "code",
   "execution_count": 57,
   "id": "42d4f8fd",
   "metadata": {},
   "outputs": [
    {
     "data": {
      "text/latex": [
       "$$ \\begin{aligned}\n",
       "\\min\\quad & x_{1} ^ {2.0} + x_{2} ^ {2.0}\\\\\n",
       "\\text{Subject to} \\quad & fn1(x_{1}, x_{2}) - 0.0 \\leq 0\\\\\n",
       " & fn2(x_{1}, x_{2}) - 0.0 \\leq 0\\\\\n",
       " & fn3(x_{1}, x_{2}) - 0.0 \\leq 0\\\\\n",
       " & fn4(x_{1}, x_{2}) - 0.0 \\leq 0\\\\\n",
       "\\end{aligned} $$"
      ]
     },
     "metadata": {},
     "output_type": "display_data"
    },
    {
     "name": "stdout",
     "output_type": "stream",
     "text": [
      "Objective function value: 0.5000000 \n",
      "Minimizing values: 0.5000000, 0.5000000\n",
      "\n",
      " Yay!! 🙏"
     ]
    }
   ],
   "source": [
    "model = Model(Ipopt.Optimizer);\n",
    "set_silent(model)\n",
    "\n",
    "@variable(model, x[i = 1:2]);\n",
    "\n",
    "func_list = [\n",
    "    (x...) -> x[1] + x[2] - 2.0,\n",
    "    (x...) -> - x[1] + x[2] - 1.0,\n",
    "    (x...) -> - x[1] -  x[2] + 1.0,\n",
    "    (x...) -> x[1] - x[2] - 1.0\n",
    "]\n",
    "\n",
    "N = length(func_list);\n",
    "\n",
    "for i in 1:N\n",
    "    register(model, Symbol(\"fn\", i), 2, func_list[i]; autodiff = true);\n",
    "end\n",
    "\n",
    "@NLconstraint(model, fn1(x...) <= 0.0);\n",
    "@NLconstraint(model, fn2(x...) <= 0.0);\n",
    "@NLconstraint(model, fn3(x...) <= 0.0);\n",
    "@NLconstraint(model, fn4(x...) <= 0.0);\n",
    "\n",
    "@NLobjective(model, Min, x[1]^2 + x[2]^2);\n",
    "\n",
    "print(model)\n",
    "optimize!(model)\n",
    "\n",
    "objective_min = objective_value(model);\n",
    "minx = value.(x)\n",
    "\n",
    "@printf(\"Objective function value: %.7f \\n\", objective_min)\n",
    "@printf(\"Minimizing values: %.7f, %.7f\", minx[1], minx[2])\n",
    "\n",
    "if (minx[1] ≈ 0.5) & (minx[2] ≈ 0.5)\n",
    "    @printf(\"\\n\\n Yay!! 🙏\")\n",
    "end"
   ]
  },
  {
   "cell_type": "markdown",
   "id": "1c23f632",
   "metadata": {},
   "source": [
    "## Pattern 4"
   ]
  },
  {
   "cell_type": "markdown",
   "id": "33ae00f2",
   "metadata": {},
   "source": [
    "ここまで来たら `@NLconstraint` にも for loop 使いたい。\n",
    "そうすれば、どんな長さの `func_list` にも対応できる。\n",
    "でも、`register` では `fn1`、`fn2`...っていう名前で関数を定義している。\n",
    "これを、JuMPのモデルの constraints を作る際にどうやって使う？\n",
    "\n",
    "どうやら `add_nonlinear_constraint` っていうので、Juliaの `Expr`オブジェクトをJuMPの中で使えるそうな。\n",
    "詳しくは[こちら](https://jump.dev/JuMP.jl/stable/manual/nlp/#Raw-expression-input)。\n",
    "\n",
    "というわけで書いてみたのが以下の通り。"
   ]
  },
  {
   "cell_type": "code",
   "execution_count": 60,
   "id": "fb97d2e9",
   "metadata": {},
   "outputs": [
    {
     "data": {
      "text/latex": [
       "$$ \\begin{aligned}\n",
       "\\min\\quad & x_{1} ^ {2.0} + x_{2} ^ {2.0}\\\\\n",
       "\\text{Subject to} \\quad & fn1(x_{1}, x_{2}) - 0.0 \\leq 0\\\\\n",
       " & fn2(x_{1}, x_{2}) - 0.0 \\leq 0\\\\\n",
       " & fn3(x_{1}, x_{2}) - 0.0 \\leq 0\\\\\n",
       " & fn4(x_{1}, x_{2}) - 0.0 \\leq 0\\\\\n",
       "\\end{aligned} $$"
      ]
     },
     "metadata": {},
     "output_type": "display_data"
    },
    {
     "name": "stdout",
     "output_type": "stream",
     "text": [
      "Objective function value: 0.5000000 \n",
      "Minimizing values: 0.5000000, 0.5000000\n",
      "\n",
      " Yay!! 🙏 "
     ]
    }
   ],
   "source": [
    "model = Model(Ipopt.Optimizer);\n",
    "set_silent(model)\n",
    "\n",
    "@variable(model, x[i = 1:2]);\n",
    "\n",
    "func_list = [\n",
    "    (x...) -> x[1] + x[2] - 2.0,\n",
    "    (x...) -> - x[1] + x[2] - 1.0,\n",
    "    (x...) -> - x[1] -  x[2] + 1.0,\n",
    "    (x...) -> x[1] - x[2] - 1.0\n",
    "]\n",
    "\n",
    "N = length(func_list);\n",
    "\n",
    "for i in 1:N\n",
    "    register(model, Symbol(\"fn\", i), 2, func_list[i]; autodiff = true);\n",
    "end\n",
    "\n",
    "for i in 1:N\n",
    "    add_nonlinear_constraint(\n",
    "        model, \n",
    "        :($(Symbol(\"fn\", i))($(x...)) <= 0)\n",
    "    )\n",
    "end\n",
    "\n",
    "@NLobjective(model, Min, x[1]^2 + x[2]^2);\n",
    "\n",
    "print(model)\n",
    "optimize!(model)\n",
    "\n",
    "objective_min = objective_value(model);\n",
    "🐨 = value.(x)\n",
    "\n",
    "@printf(\"Objective function value: %.7f \\n\", objective_min)\n",
    "@printf(\"Minimizing values: %.7f, %.7f\", 🐨[1], 🐨[2])\n",
    "\n",
    "if (🐨[1] ≈ 0.5) & (🐨[2] ≈ 0.5)\n",
    "    @printf(\"\\n\\n Yay!! 🙏 \")\n",
    "end"
   ]
  },
  {
   "cell_type": "markdown",
   "id": "9d53c088",
   "metadata": {},
   "source": [
    "## Pattern 4'"
   ]
  },
  {
   "cell_type": "markdown",
   "id": "2aee925d",
   "metadata": {},
   "source": [
    "`add_nonlinear_constraint` に似たので `add_nonlinear_expression`っていうのもあって、これは constraint に限らず、expression を作れる。\n",
    "これを使って以下のように制約をつくることもできるよ。"
   ]
  },
  {
   "cell_type": "code",
   "execution_count": 66,
   "id": "125dd218",
   "metadata": {},
   "outputs": [
    {
     "data": {
      "text/latex": [
       "$$ \\begin{aligned}\n",
       "\\min\\quad & x_{1} ^ {2.0} + x_{2} ^ {2.0}\\\\\n",
       "\\text{Subject to} \\quad & subexpression_{1} - 0.0 \\leq 0\\\\\n",
       " & subexpression_{2} - 0.0 \\leq 0\\\\\n",
       " & subexpression_{3} - 0.0 \\leq 0\\\\\n",
       " & subexpression_{4} - 0.0 \\leq 0\\\\\n",
       "\\text{With NL expressions} \\quad & subexpression_{1}: fn1(x_{1}, x_{2})\\\\\n",
       " & subexpression_{2}: fn2(x_{1}, x_{2})\\\\\n",
       " & subexpression_{3}: fn3(x_{1}, x_{2})\\\\\n",
       " & subexpression_{4}: fn4(x_{1}, x_{2})\\\\\n",
       "\\end{aligned} $$"
      ]
     },
     "metadata": {},
     "output_type": "display_data"
    },
    {
     "name": "stdout",
     "output_type": "stream",
     "text": [
      "Objective function value: 0.5000000 \n",
      "Minimizing values: 0.5000000, 0.5000000\n",
      "\n",
      " Yay!! 🙏 "
     ]
    }
   ],
   "source": [
    "model = Model(Ipopt.Optimizer);\n",
    "set_silent(model)\n",
    "\n",
    "@variable(model, x[i = 1:2]);\n",
    "\n",
    "func_list = [\n",
    "    (x...) -> x[1] + x[2] - 2.0,\n",
    "    (x...) -> - x[1] + x[2] - 1.0,\n",
    "    (x...) -> - x[1] -  x[2] + 1.0,\n",
    "    (x...) -> x[1] - x[2] - 1.0\n",
    "]\n",
    "\n",
    "N = length(func_list);\n",
    "\n",
    "for i in 1:N\n",
    "    register(model, Symbol(\"fn\", i), 2, func_list[i]; autodiff = true);\n",
    "end\n",
    "\n",
    "expr_list = [add_nonlinear_expression(model, :($(Symbol(\"fn\", i))($(x...)))) for i in 1:N]\n",
    "@NLconstraint(model, [i = 1:N], expr_list[i] <= 0) # <------------ Here\n",
    "\n",
    "@NLobjective(model, Min, x[1]^2 + x[2]^2);\n",
    "\n",
    "print(model)\n",
    "optimize!(model)\n",
    "\n",
    "objective_min = objective_value(model);\n",
    "🐨 = value.(x)\n",
    "\n",
    "@printf(\"Objective function value: %.7f \\n\", objective_min)\n",
    "@printf(\"Minimizing values: %.7f, %.7f\", 🐨[1], 🐨[2])\n",
    "\n",
    "if (🐨[1] ≈ 0.5) & (🐨[2] ≈ 0.5)\n",
    "    @printf(\"\\n\\n Yay!! 🙏 \")\n",
    "end"
   ]
  },
  {
   "cell_type": "code",
   "execution_count": null,
   "id": "0262abcd",
   "metadata": {},
   "outputs": [],
   "source": []
  }
 ],
 "metadata": {
  "kernelspec": {
   "display_name": "Julia 1.6.2",
   "language": "julia",
   "name": "julia-1.6"
  },
  "language_info": {
   "file_extension": ".jl",
   "mimetype": "application/julia",
   "name": "julia",
   "version": "1.6.2"
  }
 },
 "nbformat": 4,
 "nbformat_minor": 5
}
